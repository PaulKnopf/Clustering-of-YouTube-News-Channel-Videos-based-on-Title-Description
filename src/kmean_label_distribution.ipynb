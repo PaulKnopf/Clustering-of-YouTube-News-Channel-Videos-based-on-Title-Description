{
 "cells": [
  {
   "cell_type": "code",
   "execution_count": 1,
   "outputs": [],
   "source": [
    "import numpy as np\n",
    "from datasets import Dataset\n",
    "import pandas as pd"
   ],
   "metadata": {
    "collapsed": false,
    "ExecuteTime": {
     "start_time": "2023-07-28T23:18:07.822537Z",
     "end_time": "2023-07-28T23:18:09.764300Z"
    }
   }
  },
  {
   "cell_type": "markdown",
   "source": [
    "# Additional Information gathering on Cluster distribution\n"
   ],
   "metadata": {
    "collapsed": false
   }
  },
  {
   "cell_type": "code",
   "execution_count": 2,
   "metadata": {
    "collapsed": true,
    "ExecuteTime": {
     "start_time": "2023-07-28T23:18:24.088598Z",
     "end_time": "2023-07-28T23:18:24.827077Z"
    }
   },
   "outputs": [],
   "source": [
    "# load KMeans labels\n",
    "labels = np.load('../data/cluster_labels.npy')\n",
    "videos = Dataset.load_from_disk('../data/videos')\n",
    "df = pd.DataFrame(videos)\n",
    "df['label'] = labels"
   ]
  },
  {
   "cell_type": "code",
   "execution_count": 9,
   "outputs": [],
   "source": [
    "colors_set = ['#40512D', '#5C733F', '#789451', '#A5A553', '#FFC857', '#E96356', '#714C3D', '#965369', '#B171CE', '#523646', '#793CEA']"
   ],
   "metadata": {
    "collapsed": false,
    "ExecuteTime": {
     "start_time": "2023-07-28T23:23:54.802187Z",
     "end_time": "2023-07-28T23:23:54.813167Z"
    }
   }
  },
  {
   "cell_type": "code",
   "execution_count": 3,
   "outputs": [],
   "source": [
    "df_al_jazeera = df[df['channel'] == 'Al-Jazeera-English']\n",
    "df_bbc_news = df[df['channel'] == 'BBC-News']\n",
    "df_cctv = df[df['channel'] == 'CCTV-Video-News-Agency']\n",
    "df_cnn = df[df['channel'] == 'CNN-News']\n",
    "df_dw_news = df[df['channel'] == 'DW-News']\n",
    "df_fox_news = df[df['channel'] == 'Fox-News']"
   ],
   "metadata": {
    "collapsed": false,
    "ExecuteTime": {
     "start_time": "2023-07-28T23:18:26.236006Z",
     "end_time": "2023-07-28T23:18:26.272350Z"
    }
   }
  },
  {
   "cell_type": "code",
   "execution_count": 4,
   "outputs": [],
   "source": [
    "def count_cluster_sizes(dataframe):\n",
    "    cluster_sizes = [0,0,0,0,0,0,0,0,0,0,0]\n",
    "    for i in dataframe.index:\n",
    "        label = int(dataframe['label'][i])\n",
    "        cluster_sizes[label] = cluster_sizes[label] + 1\n",
    "    return cluster_sizes"
   ],
   "metadata": {
    "collapsed": false,
    "ExecuteTime": {
     "start_time": "2023-07-28T23:18:28.912083Z",
     "end_time": "2023-07-28T23:18:28.944290Z"
    }
   }
  },
  {
   "cell_type": "code",
   "execution_count": 5,
   "outputs": [],
   "source": [
    "al_jazeera_cluster_counts = count_cluster_sizes(df_al_jazeera)\n",
    "bbc_cluster_counts = count_cluster_sizes(df_bbc_news)\n",
    "cctv_cluster_counts = count_cluster_sizes(df_cctv)\n",
    "cnn_cluster_counts = count_cluster_sizes(df_cnn)\n",
    "dw_cluster_counts = count_cluster_sizes(df_dw_news)\n",
    "fox_cluster_counts = count_cluster_sizes(df_fox_news)"
   ],
   "metadata": {
    "collapsed": false,
    "ExecuteTime": {
     "start_time": "2023-07-28T23:18:30.722284Z",
     "end_time": "2023-07-28T23:18:30.800793Z"
    }
   }
  },
  {
   "cell_type": "code",
   "execution_count": 10,
   "outputs": [],
   "source": [
    "cluster_distribution = pd.DataFrame()\n",
    "cluster_distribution['Al-Jazeera-English'] = al_jazeera_cluster_counts\n",
    "cluster_distribution['BBC-News'] = bbc_cluster_counts\n",
    "cluster_distribution['CCTV-Video-News-Agency'] = cctv_cluster_counts\n",
    "cluster_distribution['CNN-News'] = cnn_cluster_counts\n",
    "cluster_distribution['DW-News'] = dw_cluster_counts\n",
    "cluster_distribution['Fox-News'] = fox_cluster_counts\n",
    "cluster_distribution['color'] = colors_set"
   ],
   "metadata": {
    "collapsed": false,
    "ExecuteTime": {
     "start_time": "2023-07-28T23:24:19.253236Z",
     "end_time": "2023-07-28T23:24:19.259087Z"
    }
   }
  },
  {
   "cell_type": "code",
   "execution_count": 11,
   "outputs": [
    {
     "data": {
      "text/plain": "    Al-Jazeera-English  BBC-News  CCTV-Video-News-Agency  CNN-News  DW-News  \\\n0                  221       227                      26        14      331   \n1                  128        47                      13       286       48   \n2                    5         1                      83         1        0   \n3                  379       160                     208        76       54   \n4                  498        40                      30        50       84   \n5                   10         0                       4        23        2   \n6                    8         5                     559         7        4   \n7                  303        29                     212       130       39   \n8                   26        13                       8       123        7   \n9                  101        18                       6       302       21   \n10                 244        97                      25        70      249   \n\n    Fox-News    color  \n0          4  #40512D  \n1        139  #5C733F  \n2          8  #789451  \n3          8  #A5A553  \n4          7  #FFC857  \n5        757  #E96356  \n6          1  #714C3D  \n7         32  #965369  \n8        826  #B171CE  \n9        419  #523646  \n10        52  #793CEA  ",
      "text/html": "<div>\n<style scoped>\n    .dataframe tbody tr th:only-of-type {\n        vertical-align: middle;\n    }\n\n    .dataframe tbody tr th {\n        vertical-align: top;\n    }\n\n    .dataframe thead th {\n        text-align: right;\n    }\n</style>\n<table border=\"1\" class=\"dataframe\">\n  <thead>\n    <tr style=\"text-align: right;\">\n      <th></th>\n      <th>Al-Jazeera-English</th>\n      <th>BBC-News</th>\n      <th>CCTV-Video-News-Agency</th>\n      <th>CNN-News</th>\n      <th>DW-News</th>\n      <th>Fox-News</th>\n      <th>color</th>\n    </tr>\n  </thead>\n  <tbody>\n    <tr>\n      <th>0</th>\n      <td>221</td>\n      <td>227</td>\n      <td>26</td>\n      <td>14</td>\n      <td>331</td>\n      <td>4</td>\n      <td>#40512D</td>\n    </tr>\n    <tr>\n      <th>1</th>\n      <td>128</td>\n      <td>47</td>\n      <td>13</td>\n      <td>286</td>\n      <td>48</td>\n      <td>139</td>\n      <td>#5C733F</td>\n    </tr>\n    <tr>\n      <th>2</th>\n      <td>5</td>\n      <td>1</td>\n      <td>83</td>\n      <td>1</td>\n      <td>0</td>\n      <td>8</td>\n      <td>#789451</td>\n    </tr>\n    <tr>\n      <th>3</th>\n      <td>379</td>\n      <td>160</td>\n      <td>208</td>\n      <td>76</td>\n      <td>54</td>\n      <td>8</td>\n      <td>#A5A553</td>\n    </tr>\n    <tr>\n      <th>4</th>\n      <td>498</td>\n      <td>40</td>\n      <td>30</td>\n      <td>50</td>\n      <td>84</td>\n      <td>7</td>\n      <td>#FFC857</td>\n    </tr>\n    <tr>\n      <th>5</th>\n      <td>10</td>\n      <td>0</td>\n      <td>4</td>\n      <td>23</td>\n      <td>2</td>\n      <td>757</td>\n      <td>#E96356</td>\n    </tr>\n    <tr>\n      <th>6</th>\n      <td>8</td>\n      <td>5</td>\n      <td>559</td>\n      <td>7</td>\n      <td>4</td>\n      <td>1</td>\n      <td>#714C3D</td>\n    </tr>\n    <tr>\n      <th>7</th>\n      <td>303</td>\n      <td>29</td>\n      <td>212</td>\n      <td>130</td>\n      <td>39</td>\n      <td>32</td>\n      <td>#965369</td>\n    </tr>\n    <tr>\n      <th>8</th>\n      <td>26</td>\n      <td>13</td>\n      <td>8</td>\n      <td>123</td>\n      <td>7</td>\n      <td>826</td>\n      <td>#B171CE</td>\n    </tr>\n    <tr>\n      <th>9</th>\n      <td>101</td>\n      <td>18</td>\n      <td>6</td>\n      <td>302</td>\n      <td>21</td>\n      <td>419</td>\n      <td>#523646</td>\n    </tr>\n    <tr>\n      <th>10</th>\n      <td>244</td>\n      <td>97</td>\n      <td>25</td>\n      <td>70</td>\n      <td>249</td>\n      <td>52</td>\n      <td>#793CEA</td>\n    </tr>\n  </tbody>\n</table>\n</div>"
     },
     "execution_count": 11,
     "metadata": {},
     "output_type": "execute_result"
    }
   ],
   "source": [
    "cluster_distribution"
   ],
   "metadata": {
    "collapsed": false,
    "ExecuteTime": {
     "start_time": "2023-07-28T23:24:20.183848Z",
     "end_time": "2023-07-28T23:24:20.218766Z"
    }
   }
  },
  {
   "cell_type": "code",
   "execution_count": 8,
   "outputs": [],
   "source": [
    "cluster_distribution.to_csv('../data/cluster_distribution.csv')"
   ],
   "metadata": {
    "collapsed": false,
    "ExecuteTime": {
     "start_time": "2023-07-28T23:18:35.400479Z",
     "end_time": "2023-07-28T23:18:35.436481Z"
    }
   }
  }
 ],
 "metadata": {
  "kernelspec": {
   "display_name": "Python 3",
   "language": "python",
   "name": "python3"
  },
  "language_info": {
   "codemirror_mode": {
    "name": "ipython",
    "version": 2
   },
   "file_extension": ".py",
   "mimetype": "text/x-python",
   "name": "python",
   "nbconvert_exporter": "python",
   "pygments_lexer": "ipython2",
   "version": "2.7.6"
  }
 },
 "nbformat": 4,
 "nbformat_minor": 0
}
