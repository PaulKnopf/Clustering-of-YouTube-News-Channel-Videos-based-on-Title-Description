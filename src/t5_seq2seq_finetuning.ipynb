{
  "cells": [
    {
      "cell_type": "markdown",
      "metadata": {},
      "source": [
        "## This is a notebook that i (@Max) found online\n",
        "We can use this for our supervised approach"
      ]
    },
    {
      "cell_type": "markdown",
      "metadata": {
        "id": "Smr0ok1lbXQJ"
      },
      "source": [
        "# Training an Article Title Generation Model with T5"
      ]
    },
    {
      "cell_type": "markdown",
      "metadata": {
        "id": "EVH49J6Dbd7l"
      },
      "source": [
        "## Load the dataset"
      ]
    },
    {
      "cell_type": "code",
      "execution_count": 1,
      "metadata": {
        "id": "lxA4ie8ZXTUu"
      },
      "outputs": [],
      "source": [
        "import transformers\n",
        "from datasets import load_from_disk, load_metric\n",
        "import pandas as pd"
      ]
    },
    {
      "cell_type": "code",
      "execution_count": 2,
      "metadata": {},
      "outputs": [],
      "source": [
        "videos = load_from_disk(\"../data/videos\")\n",
        "labeled_dataframe = pd.read_csv(\"../data/supervised_training_labelled.csv\")"
      ]
    },
    {
      "cell_type": "code",
      "execution_count": 8,
      "metadata": {},
      "outputs": [],
      "source": [
        "# join the videos and the labled_dataframe on title and \n",
        "merged = pd.merge(videos.to_pandas(), labeled_dataframe, on=[\"title\", \"description\"], how=\"left\")\n",
        "merged.set_index(\"id\",inplace=True)\n",
        "videos = videos.add_column(\"label\", merged.topic)"
      ]
    },
    {
      "cell_type": "markdown",
      "metadata": {
        "id": "meFMYGPrbkwp"
      },
      "source": [
        "## Dataset train/validation/test split"
      ]
    },
    {
      "cell_type": "code",
      "execution_count": null,
      "metadata": {
        "id": "FPsvfzq-uAKc"
      },
      "outputs": [],
      "source": [
        "datasets_train_test = medium_datasets[\"train\"].train_test_split(test_size=3000)\n",
        "datasets_train_validation = datasets_train_test[\"train\"].train_test_split(test_size=3000)\n",
        "\n",
        "medium_datasets[\"train\"] = datasets_train_validation[\"train\"]\n",
        "medium_datasets[\"validation\"] = datasets_train_validation[\"test\"]\n",
        "medium_datasets[\"test\"] = datasets_train_test[\"test\"]\n",
        "\n",
        "medium_datasets"
      ]
    },
    {
      "cell_type": "code",
      "execution_count": null,
      "metadata": {
        "id": "4R2UP-FovZBe"
      },
      "outputs": [],
      "source": [
        "n_samples_train = len(medium_datasets[\"train\"])\n",
        "n_samples_validation = len(medium_datasets[\"validation\"])\n",
        "n_samples_test = len(medium_datasets[\"test\"])\n",
        "n_samples_total = n_samples_train + n_samples_validation + n_samples_test\n",
        "\n",
        "print(f\"- Training set: {n_samples_train*100/n_samples_total:.2f}%\")\n",
        "print(f\"- Validation set: {n_samples_validation*100/n_samples_total:.2f}%\")\n",
        "print(f\"- Test set: {n_samples_test*100/n_samples_total:.2f}%\")"
      ]
    },
    {
      "cell_type": "code",
      "execution_count": null,
      "metadata": {
        "id": "xYW2j-_l4FwR"
      },
      "outputs": [],
      "source": [
        "# keep only a subsample of the datasets\n",
        "medium_datasets[\"train\"] = medium_datasets[\"train\"].shuffle().select(range(100000))\n",
        "medium_datasets[\"validation\"] = medium_datasets[\"validation\"].shuffle().select(range(1000))\n",
        "medium_datasets[\"test\"] = medium_datasets[\"test\"].shuffle().select(range(1000))\n",
        "\n",
        "medium_datasets"
      ]
    },
    {
      "cell_type": "markdown",
      "metadata": {
        "id": "NMlba5F2bqTQ"
      },
      "source": [
        "## Data preprocessing"
      ]
    },
    {
      "cell_type": "code",
      "execution_count": null,
      "metadata": {
        "id": "4w4QyMc2wF4z"
      },
      "outputs": [],
      "source": [
        "import nltk\n",
        "nltk.download('punkt')\n",
        "import string\n",
        "from transformers import AutoTokenizer"
      ]
    },
    {
      "cell_type": "code",
      "execution_count": null,
      "metadata": {
        "id": "fXE4liMzxJVu"
      },
      "outputs": [],
      "source": [
        "model_checkpoint = \"t5-base\"\n",
        "\n",
        "tokenizer = AutoTokenizer.from_pretrained(model_checkpoint)"
      ]
    },
    {
      "cell_type": "code",
      "execution_count": null,
      "metadata": {
        "id": "AksRL_QyyYZj"
      },
      "outputs": [],
      "source": [
        "prefix = \"summarize: \"\n",
        "\n",
        "max_input_length = 512\n",
        "max_target_length = 64\n",
        "\n",
        "def clean_text(text):\n",
        "  sentences = nltk.sent_tokenize(text.strip())\n",
        "  sentences_cleaned = [s for sent in sentences for s in sent.split(\"\\n\")]\n",
        "  sentences_cleaned_no_titles = [sent for sent in sentences_cleaned\n",
        "                                 if len(sent) > 0 and\n",
        "                                 sent[-1] in string.punctuation]\n",
        "  text_cleaned = \"\\n\".join(sentences_cleaned_no_titles)\n",
        "  return text_cleaned\n",
        "\n",
        "def preprocess_data(examples):\n",
        "  texts_cleaned = [clean_text(text) for text in examples[\"text\"]]\n",
        "  inputs = [prefix + text for text in texts_cleaned]\n",
        "  model_inputs = tokenizer(inputs, max_length=max_input_length, truncation=True)\n",
        "\n",
        "  # Setup the tokenizer for targets\n",
        "  with tokenizer.as_target_tokenizer():\n",
        "    labels = tokenizer(examples[\"title\"], max_length=max_target_length,\n",
        "                       truncation=True)\n",
        "\n",
        "  model_inputs[\"labels\"] = labels[\"input_ids\"]\n",
        "  return model_inputs"
      ]
    },
    {
      "cell_type": "code",
      "execution_count": null,
      "metadata": {
        "id": "tsEaq2Um3HcD"
      },
      "outputs": [],
      "source": [
        "medium_datasets_cleaned = medium_datasets.filter(lambda example: (len(example['text']) >= 500) and (len(example['title']) >= 20))\n",
        "tokenized_datasets = medium_datasets_cleaned.map(preprocess_data, batched=True)\n",
        "tokenized_datasets"
      ]
    },
    {
      "cell_type": "markdown",
      "metadata": {
        "id": "8Xc_wx8WbtJ4"
      },
      "source": [
        "## Fine-tune T5"
      ]
    },
    {
      "cell_type": "code",
      "execution_count": null,
      "metadata": {
        "id": "m0SW4HFx4wzG"
      },
      "outputs": [],
      "source": [
        "from transformers import AutoModelForSeq2SeqLM, DataCollatorForSeq2Seq, Seq2SeqTrainingArguments, Seq2SeqTrainer"
      ]
    },
    {
      "cell_type": "code",
      "execution_count": null,
      "metadata": {
        "id": "73iDTHHYgVTN"
      },
      "outputs": [],
      "source": [
        "!rm -r {model_dir}"
      ]
    },
    {
      "cell_type": "code",
      "execution_count": null,
      "metadata": {
        "id": "HjLfz7b6cVHJ"
      },
      "outputs": [],
      "source": [
        "batch_size = 8\n",
        "model_name = \"t5-base-medium-title-generation\"\n",
        "model_dir = f\"drive/MyDrive/Models/{model_name}\"\n",
        "args = Seq2SeqTrainingArguments(\n",
        "    model_dir,\n",
        "    evaluation_strategy=\"steps\",\n",
        "    eval_steps=100,\n",
        "    logging_strategy=\"steps\",\n",
        "    logging_steps=100,\n",
        "    save_strategy=\"steps\",\n",
        "    save_steps=200,\n",
        "    learning_rate=4e-5,\n",
        "    per_device_train_batch_size=batch_size,\n",
        "    per_device_eval_batch_size=batch_size,\n",
        "    weight_decay=0.01,\n",
        "    save_total_limit=3,\n",
        "    num_train_epochs=1,\n",
        "    predict_with_generate=True,\n",
        "    fp16=True,\n",
        "    load_best_model_at_end=True,\n",
        "    metric_for_best_model=\"rouge1\",\n",
        "    report_to=\"tensorboard\"\n",
        ")"
      ]
    },
    {
      "cell_type": "code",
      "execution_count": null,
      "metadata": {
        "id": "joWGLoZ8dOIS"
      },
      "outputs": [],
      "source": [
        "data_collator = DataCollatorForSeq2Seq(tokenizer)"
      ]
    },
    {
      "cell_type": "code",
      "execution_count": null,
      "metadata": {
        "id": "qYq_4DWjdXYa"
      },
      "outputs": [],
      "source": [
        "import numpy as np\n",
        "\n",
        "metric = load_metric(\"rouge\")\n",
        "\n",
        "def compute_metrics(eval_pred):\n",
        "    predictions, labels = eval_pred\n",
        "    decoded_preds = tokenizer.batch_decode(predictions, skip_special_tokens=True)\n",
        "\n",
        "    # Replace -100 in the labels as we can't decode them.\n",
        "    labels = np.where(labels != -100, labels, tokenizer.pad_token_id)\n",
        "    decoded_labels = tokenizer.batch_decode(labels, skip_special_tokens=True)\n",
        "\n",
        "    # Rouge expects a newline after each sentence\n",
        "    decoded_preds = [\"\\n\".join(nltk.sent_tokenize(pred.strip()))\n",
        "                      for pred in decoded_preds]\n",
        "    decoded_labels = [\"\\n\".join(nltk.sent_tokenize(label.strip()))\n",
        "                      for label in decoded_labels]\n",
        "\n",
        "    # Compute ROUGE scores\n",
        "    result = metric.compute(predictions=decoded_preds, references=decoded_labels,\n",
        "                            use_stemmer=True)\n",
        "\n",
        "    # Extract ROUGE f1 scores\n",
        "    result = {key: value.mid.fmeasure * 100 for key, value in result.items()}\n",
        "\n",
        "    # Add mean generated length to metrics\n",
        "    prediction_lens = [np.count_nonzero(pred != tokenizer.pad_token_id)\n",
        "                      for pred in predictions]\n",
        "    result[\"gen_len\"] = np.mean(prediction_lens)\n",
        "\n",
        "    return {k: round(v, 4) for k, v in result.items()}"
      ]
    },
    {
      "cell_type": "code",
      "execution_count": null,
      "metadata": {
        "id": "ODp1f0ZkdadY"
      },
      "outputs": [],
      "source": [
        "# Function that returns an untrained model to be trained\n",
        "def model_init():\n",
        "    return AutoModelForSeq2SeqLM.from_pretrained(model_checkpoint)\n",
        "\n",
        "trainer = Seq2SeqTrainer(\n",
        "    model_init=model_init,\n",
        "    args=args,\n",
        "    train_dataset=tokenized_datasets[\"train\"],\n",
        "    eval_dataset=tokenized_datasets[\"validation\"],\n",
        "    data_collator=data_collator,\n",
        "    tokenizer=tokenizer,\n",
        "    compute_metrics=compute_metrics\n",
        ")"
      ]
    },
    {
      "cell_type": "code",
      "execution_count": null,
      "metadata": {
        "id": "tq8R43Ls8-EU"
      },
      "outputs": [],
      "source": [
        "# Start TensorBoard before training to monitor it in progress\n",
        "%load_ext tensorboard\n",
        "%tensorboard --logdir '{model_dir}'/runs"
      ]
    },
    {
      "cell_type": "code",
      "execution_count": null,
      "metadata": {
        "id": "XOeZoPmudwiv"
      },
      "outputs": [],
      "source": [
        "trainer.train()"
      ]
    },
    {
      "cell_type": "code",
      "execution_count": null,
      "metadata": {
        "id": "_4PIcpIeoDW7"
      },
      "outputs": [],
      "source": [
        "trainer.save_model()"
      ]
    },
    {
      "cell_type": "markdown",
      "metadata": {
        "id": "sOuRWgO1F0Xc"
      },
      "source": [
        "## Load the model from GDrive"
      ]
    },
    {
      "cell_type": "code",
      "execution_count": null,
      "metadata": {
        "id": "LNiSsHt1oRmN"
      },
      "outputs": [],
      "source": [
        "model_name = \"t5-base-medium-title-generation/checkpoint-2000\"\n",
        "model_dir = f\"drive/MyDrive/Models/{model_name}\"\n",
        "\n",
        "tokenizer = AutoTokenizer.from_pretrained(model_dir)\n",
        "model = AutoModelForSeq2SeqLM.from_pretrained(model_dir)\n",
        "\n",
        "max_input_length = 512"
      ]
    },
    {
      "cell_type": "code",
      "execution_count": null,
      "metadata": {
        "id": "COdutSc1Oel9"
      },
      "outputs": [],
      "source": [
        "text = \"\"\"\n",
        "We define access to a Streamlit app in a browser tab as a session.\n",
        "For each browser tab that connects to the Streamlit server, a new session is created.\n",
        "Streamlit reruns your script from top to bottom every time you interact with your app.\n",
        "Each reruns takes place in a blank slate: no variables are shared between runs.\n",
        "Session State is a way to share variables between reruns, for each user session.\n",
        "In addition to the ability to store and persist state, Streamlit also exposes the\n",
        "ability to manipulate state using Callbacks. In this guide, we will illustrate the\n",
        "usage of Session State and Callbacks as we build a stateful Counter app.\n",
        "For details on the Session State and Callbacks API, please refer to our Session\n",
        "State API Reference Guide. Also, check out this Session State basics tutorial\n",
        "video by Streamlit Developer Advocate Dr. Marisa Smith to get started:\n",
        "\"\"\"\n",
        "\n",
        "inputs = [\"summarize: \" + text]\n",
        "\n",
        "inputs = tokenizer(inputs, max_length=max_input_length, truncation=True, return_tensors=\"pt\")\n",
        "output = model.generate(**inputs, num_beams=8, do_sample=True, min_length=10, max_length=64)\n",
        "decoded_output = tokenizer.batch_decode(output, skip_special_tokens=True)[0]\n",
        "predicted_title = nltk.sent_tokenize(decoded_output.strip())[0]\n",
        "\n",
        "print(predicted_title)\n",
        "# Session State and Callbacks in Streamlit"
      ]
    },
    {
      "cell_type": "code",
      "execution_count": null,
      "metadata": {
        "id": "MqH3hlZg_3HE"
      },
      "outputs": [],
      "source": [
        "text = \"\"\"\n",
        "Many financial institutions started building conversational AI, prior to the Covid19\n",
        "pandemic, as part of a digital transformation initiative. These initial solutions\n",
        "were high profile, highly personalized virtual assistants — like the Erica chatbot\n",
        "from Bank of America. As the pandemic hit, the need changed as contact centers were\n",
        "under increased pressures. As Cathal McGloin of ServisBOT explains in “how it started,\n",
        "and how it is going,” financial institutions were looking for ways to automate\n",
        "solutions to help get back to “normal” levels of customer service. This resulted\n",
        "in a change from the “future of conversational AI” to a real tactical assistant\n",
        "that can help in customer service. Haritha Dev of Wells Fargo, saw a similar trend.\n",
        "Banks were originally looking to conversational AI as part of digital transformation\n",
        "to keep up with the times. However, with the pandemic, it has been more about\n",
        "customer retention and customer satisfaction. In addition, new use cases came about\n",
        "as a result of Covid-19 that accelerated adoption of conversational AI. As Vinita\n",
        "Kumar of Deloitte points out, banks were dealing with an influx of calls about new\n",
        "concerns, like questions around the Paycheck Protection Program (PPP) loans. This\n",
        "resulted in an increase in volume, without enough agents to assist customers, and\n",
        "tipped the scale to incorporate conversational AI. When choosing initial use cases\n",
        "to support, financial institutions often start with high volume, low complexity\n",
        "tasks. For example, password resets, checking account balances, or checking the\n",
        "status of a transaction, as Vinita points out. From there, the use cases can evolve\n",
        "as the banks get more mature in developing conversational AI, and as the customers\n",
        "become more engaged with the solutions. Cathal indicates another good way for banks\n",
        "to start is looking at use cases that are a pain point, and also do not require a\n",
        "lot of IT support. Some financial institutions may have a multi-year technology\n",
        "roadmap, which can make it harder to get a new service started. A simple chatbot\n",
        "for document collection in an onboarding process can result in high engagement,\n",
        "and a high return on investment. For example, Cathal has a banking customer that\n",
        "implemented a chatbot to capture a driver’s license to be used in the verification\n",
        "process of adding an additional user to an account — it has over 85% engagement\n",
        "with high satisfaction. An interesting use case Haritha discovered involved\n",
        "educating customers on financial matters. People feel more comfortable asking a\n",
        "chatbot what might be considered a “dumb” question, as the chatbot is less judgmental.\n",
        "Users can be more ambiguous with their questions as well, not knowing the right\n",
        "words to use, as chatbot can help narrow things down.\n",
        "\"\"\"\n",
        "\n",
        "inputs = [\"summarize: \" + text]\n",
        "\n",
        "inputs = tokenizer(inputs, max_length=max_input_length, truncation=True, return_tensors=\"pt\")\n",
        "output = model.generate(**inputs, num_beams=8, do_sample=True, min_length=10, max_length=64)\n",
        "decoded_output = tokenizer.batch_decode(output, skip_special_tokens=True)[0]\n",
        "predicted_title = nltk.sent_tokenize(decoded_output.strip())[0]\n",
        "\n",
        "print(predicted_title)\n",
        "# Conversational AI: The Future of Customer Service"
      ]
    },
    {
      "cell_type": "markdown",
      "metadata": {
        "id": "fvilrwiEezhD"
      },
      "source": [
        "## Upload the model to the Hugging Space Hub"
      ]
    },
    {
      "cell_type": "markdown",
      "metadata": {
        "id": "8DdcAcVojw6z"
      },
      "source": [
        "https://huggingface.co/docs/transformers/model_sharing"
      ]
    },
    {
      "cell_type": "code",
      "execution_count": null,
      "metadata": {
        "id": "7DnuA0tggwhW"
      },
      "outputs": [],
      "source": [
        "!pip install --upgrade jax jaxlib # CPU-only\n",
        "!pip install flax"
      ]
    },
    {
      "cell_type": "code",
      "execution_count": null,
      "metadata": {
        "id": "LVj3RpFieol9"
      },
      "outputs": [],
      "source": [
        "from huggingface_hub import notebook_login\n",
        "\n",
        "notebook_login()"
      ]
    },
    {
      "cell_type": "code",
      "execution_count": null,
      "metadata": {
        "id": "lyZQIZSHfpPI"
      },
      "outputs": [],
      "source": [
        "from transformers import T5ForConditionalGeneration, TFT5ForConditionalGeneration, FlaxT5ForConditionalGeneration\n",
        "\n",
        "tokenizer = AutoTokenizer.from_pretrained(model_dir)\n",
        "pt_model = T5ForConditionalGeneration.from_pretrained(model_dir)\n",
        "tf_model = TFT5ForConditionalGeneration.from_pretrained(model_dir, from_pt=True)\n",
        "flax_model = FlaxT5ForConditionalGeneration.from_pretrained(model_dir, from_pt=True)\n",
        "\n",
        "tokenizer.push_to_hub(model_name)\n",
        "pt_model.push_to_hub(model_name)\n",
        "tf_model.push_to_hub(model_name)\n",
        "flax_model.push_to_hub(model_name)"
      ]
    },
    {
      "cell_type": "markdown",
      "metadata": {
        "id": "tqDj8iX_kQD1"
      },
      "source": [
        "## Load the model from the Hugging Face Hub"
      ]
    },
    {
      "cell_type": "code",
      "execution_count": null,
      "metadata": {
        "id": "PQHVTHJTkYyR"
      },
      "outputs": [],
      "source": [
        "from transformers import AutoTokenizer, AutoModelForSeq2SeqLM\n",
        "import nltk\n",
        "nltk.download('punkt')\n",
        "\n",
        "tokenizer = AutoTokenizer.from_pretrained(\"fabiochiu/t5-small-medium-title-generation\")\n",
        "model = AutoModelForSeq2SeqLM.from_pretrained(\"fabiochiu/t5-small-medium-title-generation\")\n",
        "\n",
        "text = \"\"\"\n",
        "Many financial institutions started building conversational AI, prior to the Covid19\n",
        "pandemic, as part of a digital transformation initiative. These initial solutions\n",
        "were high profile, highly personalized virtual assistants — like the Erica chatbot\n",
        "from Bank of America. As the pandemic hit, the need changed as contact centers were\n",
        "under increased pressures. As Cathal McGloin of ServisBOT explains in “how it started,\n",
        "and how it is going,” financial institutions were looking for ways to automate\n",
        "solutions to help get back to “normal” levels of customer service. This resulted\n",
        "in a change from the “future of conversational AI” to a real tactical assistant\n",
        "that can help in customer service. Haritha Dev of Wells Fargo, saw a similar trend.\n",
        "Banks were originally looking to conversational AI as part of digital transformation\n",
        "to keep up with the times. However, with the pandemic, it has been more about\n",
        "customer retention and customer satisfaction. In addition, new use cases came about\n",
        "as a result of Covid-19 that accelerated adoption of conversational AI. As Vinita\n",
        "Kumar of Deloitte points out, banks were dealing with an influx of calls about new\n",
        "concerns, like questions around the Paycheck Protection Program (PPP) loans. This\n",
        "resulted in an increase in volume, without enough agents to assist customers, and\n",
        "tipped the scale to incorporate conversational AI. When choosing initial use cases\n",
        "to support, financial institutions often start with high volume, low complexity\n",
        "tasks. For example, password resets, checking account balances, or checking the\n",
        "status of a transaction, as Vinita points out. From there, the use cases can evolve\n",
        "as the banks get more mature in developing conversational AI, and as the customers\n",
        "become more engaged with the solutions. Cathal indicates another good way for banks\n",
        "to start is looking at use cases that are a pain point, and also do not require a\n",
        "lot of IT support. Some financial institutions may have a multi-year technology\n",
        "roadmap, which can make it harder to get a new service started. A simple chatbot\n",
        "for document collection in an onboarding process can result in high engagement,\n",
        "and a high return on investment. For example, Cathal has a banking customer that\n",
        "implemented a chatbot to capture a driver’s license to be used in the verification\n",
        "process of adding an additional user to an account — it has over 85% engagement\n",
        "with high satisfaction. An interesting use case Haritha discovered involved\n",
        "educating customers on financial matters. People feel more comfortable asking a\n",
        "chatbot what might be considered a “dumb” question, as the chatbot is less judgmental.\n",
        "Users can be more ambiguous with their questions as well, not knowing the right\n",
        "words to use, as chatbot can help narrow things down.\n",
        "\"\"\"\n",
        "\n",
        "inputs = [\"summarize: \" + text]\n",
        "\n",
        "inputs = tokenizer(inputs, max_length=max_input_length, truncation=True, return_tensors=\"pt\")\n",
        "output = model.generate(**inputs, num_beams=8, do_sample=True, min_length=10, max_length=64)\n",
        "decoded_output = tokenizer.batch_decode(output, skip_special_tokens=True)[0]\n",
        "predicted_title = nltk.sent_tokenize(decoded_output.strip())[0]\n",
        "\n",
        "print(predicted_title)\n",
        "# Conversational AI: The Future of Customer Service"
      ]
    },
    {
      "cell_type": "markdown",
      "metadata": {
        "id": "-_WaVGKccca9"
      },
      "source": [
        "## Evaluate the model on the test set"
      ]
    },
    {
      "cell_type": "code",
      "execution_count": null,
      "metadata": {
        "id": "LsPh50j4qdFd"
      },
      "outputs": [],
      "source": [
        "import torch\n",
        "\n",
        "# get test split\n",
        "test_tokenized_dataset = tokenized_datasets[\"test\"]\n",
        "\n",
        "# pad texts to the same length\n",
        "def preprocess_test(examples):\n",
        "  inputs = [prefix + text for text in examples[\"text\"]]\n",
        "  model_inputs = tokenizer(inputs, max_length=max_input_length, truncation=True,\n",
        "                           padding=\"max_length\")\n",
        "  return model_inputs\n",
        "\n",
        "test_tokenized_dataset = test_tokenized_dataset.map(preprocess_test, batched=True)\n",
        "\n",
        "# prepare dataloader\n",
        "test_tokenized_dataset.set_format(type='torch', columns=['input_ids', 'attention_mask'])\n",
        "dataloader = torch.utils.data.DataLoader(test_tokenized_dataset, batch_size=32)\n",
        "\n",
        "# generate text for each batch\n",
        "all_predictions = []\n",
        "for i,batch in enumerate(dataloader):\n",
        "  predictions = model.generate(**batch)\n",
        "  all_predictions.append(predictions)\n",
        "\n",
        "# flatten predictions\n",
        "all_predictions_flattened = [pred for preds in all_predictions for pred in preds]\n",
        "\n",
        "# tokenize and pad titles\n",
        "all_titles = tokenizer(test_tokenized_dataset[\"title\"], max_length=max_target_length,\n",
        "                       truncation=True, padding=\"max_length\")[\"input_ids\"]\n",
        "\n",
        "# compute metrics\n",
        "predictions_labels = [all_predictions_flattened, all_titles]\n",
        "compute_metrics(predictions_labels)"
      ]
    }
  ],
  "metadata": {
    "accelerator": "GPU",
    "colab": {
      "provenance": []
    },
    "kernelspec": {
      "display_name": "Python 3",
      "name": "python3"
    },
    "language_info": {
      "codemirror_mode": {
        "name": "ipython",
        "version": 3
      },
      "file_extension": ".py",
      "mimetype": "text/x-python",
      "name": "python",
      "nbconvert_exporter": "python",
      "pygments_lexer": "ipython3",
      "version": "3.9.13"
    },
    "widgets": {
      "application/vnd.jupyter.widget-state+json": {
        "02d4b6b871324b9f92cd549284594225": {
          "model_module": "@jupyter-widgets/controls",
          "model_module_version": "1.5.0",
          "model_name": "HBoxModel",
          "state": {
            "_dom_classes": [],
            "_model_module": "@jupyter-widgets/controls",
            "_model_module_version": "1.5.0",
            "_model_name": "HBoxModel",
            "_view_count": null,
            "_view_module": "@jupyter-widgets/controls",
            "_view_module_version": "1.5.0",
            "_view_name": "HBoxView",
            "box_style": "",
            "children": [
              "IPY_MODEL_6291ccc136df4a1b9d011ec738709da2",
              "IPY_MODEL_dde56e8076ae44b28c8583da3ff14113",
              "IPY_MODEL_59f8e3e626e247bba94146336cdea02f"
            ],
            "layout": "IPY_MODEL_f4fd042a35994f0e9b4e8b8a5a35277c"
          }
        },
        "0b20da24f3bc46fa814e26cffea42573": {
          "model_module": "@jupyter-widgets/controls",
          "model_module_version": "1.5.0",
          "model_name": "DescriptionStyleModel",
          "state": {
            "_model_module": "@jupyter-widgets/controls",
            "_model_module_version": "1.5.0",
            "_model_name": "DescriptionStyleModel",
            "_view_count": null,
            "_view_module": "@jupyter-widgets/base",
            "_view_module_version": "1.2.0",
            "_view_name": "StyleView",
            "description_width": ""
          }
        },
        "181ba258d92e49ba8eb2d8fb763f0bdf": {
          "model_module": "@jupyter-widgets/controls",
          "model_module_version": "1.5.0",
          "model_name": "DescriptionStyleModel",
          "state": {
            "_model_module": "@jupyter-widgets/controls",
            "_model_module_version": "1.5.0",
            "_model_name": "DescriptionStyleModel",
            "_view_count": null,
            "_view_module": "@jupyter-widgets/base",
            "_view_module_version": "1.2.0",
            "_view_name": "StyleView",
            "description_width": ""
          }
        },
        "1f71d5ff86d549da8f5e2adf53b72095": {
          "model_module": "@jupyter-widgets/controls",
          "model_module_version": "1.5.0",
          "model_name": "DescriptionStyleModel",
          "state": {
            "_model_module": "@jupyter-widgets/controls",
            "_model_module_version": "1.5.0",
            "_model_name": "DescriptionStyleModel",
            "_view_count": null,
            "_view_module": "@jupyter-widgets/base",
            "_view_module_version": "1.2.0",
            "_view_name": "StyleView",
            "description_width": ""
          }
        },
        "246fd9e9c26b474ab8adeb20bdf26e14": {
          "model_module": "@jupyter-widgets/controls",
          "model_module_version": "1.5.0",
          "model_name": "FloatProgressModel",
          "state": {
            "_dom_classes": [],
            "_model_module": "@jupyter-widgets/controls",
            "_model_module_version": "1.5.0",
            "_model_name": "FloatProgressModel",
            "_view_count": null,
            "_view_module": "@jupyter-widgets/controls",
            "_view_module_version": "1.5.0",
            "_view_name": "ProgressView",
            "bar_style": "",
            "description": "",
            "description_tooltip": null,
            "layout": "IPY_MODEL_6c712f6809e448b3a310c27a3541e58e",
            "max": 1,
            "min": 0,
            "orientation": "horizontal",
            "style": "IPY_MODEL_39963f9cb9ee4f9ba80ea253ff74bc4f",
            "value": 0
          }
        },
        "2613f346dc434001979271278b2b55fe": {
          "model_module": "@jupyter-widgets/controls",
          "model_module_version": "1.5.0",
          "model_name": "ProgressStyleModel",
          "state": {
            "_model_module": "@jupyter-widgets/controls",
            "_model_module_version": "1.5.0",
            "_model_name": "ProgressStyleModel",
            "_view_count": null,
            "_view_module": "@jupyter-widgets/base",
            "_view_module_version": "1.2.0",
            "_view_name": "StyleView",
            "bar_color": null,
            "description_width": ""
          }
        },
        "2ed1cceaa15b4f55b890c483b3029709": {
          "model_module": "@jupyter-widgets/controls",
          "model_module_version": "1.5.0",
          "model_name": "HTMLModel",
          "state": {
            "_dom_classes": [],
            "_model_module": "@jupyter-widgets/controls",
            "_model_module_version": "1.5.0",
            "_model_name": "HTMLModel",
            "_view_count": null,
            "_view_module": "@jupyter-widgets/controls",
            "_view_module_version": "1.5.0",
            "_view_name": "HTMLView",
            "description": "",
            "description_tooltip": null,
            "layout": "IPY_MODEL_97c990dd1f7f4fd0b66de34898d6fb6d",
            "placeholder": "​",
            "style": "IPY_MODEL_1f71d5ff86d549da8f5e2adf53b72095",
            "value": "Extracting data files:   0%"
          }
        },
        "327c2b682d2b44be8fb0e61021a4ac48": {
          "model_module": "@jupyter-widgets/base",
          "model_module_version": "1.2.0",
          "model_name": "LayoutModel",
          "state": {
            "_model_module": "@jupyter-widgets/base",
            "_model_module_version": "1.2.0",
            "_model_name": "LayoutModel",
            "_view_count": null,
            "_view_module": "@jupyter-widgets/base",
            "_view_module_version": "1.2.0",
            "_view_name": "LayoutView",
            "align_content": null,
            "align_items": null,
            "align_self": null,
            "border": null,
            "bottom": null,
            "display": null,
            "flex": null,
            "flex_flow": null,
            "grid_area": null,
            "grid_auto_columns": null,
            "grid_auto_flow": null,
            "grid_auto_rows": null,
            "grid_column": null,
            "grid_gap": null,
            "grid_row": null,
            "grid_template_areas": null,
            "grid_template_columns": null,
            "grid_template_rows": null,
            "height": null,
            "justify_content": null,
            "justify_items": null,
            "left": null,
            "margin": null,
            "max_height": null,
            "max_width": null,
            "min_height": null,
            "min_width": null,
            "object_fit": null,
            "object_position": null,
            "order": null,
            "overflow": null,
            "overflow_x": null,
            "overflow_y": null,
            "padding": null,
            "right": null,
            "top": null,
            "visibility": null,
            "width": null
          }
        },
        "39963f9cb9ee4f9ba80ea253ff74bc4f": {
          "model_module": "@jupyter-widgets/controls",
          "model_module_version": "1.5.0",
          "model_name": "ProgressStyleModel",
          "state": {
            "_model_module": "@jupyter-widgets/controls",
            "_model_module_version": "1.5.0",
            "_model_name": "ProgressStyleModel",
            "_view_count": null,
            "_view_module": "@jupyter-widgets/base",
            "_view_module_version": "1.2.0",
            "_view_name": "StyleView",
            "bar_color": null,
            "description_width": ""
          }
        },
        "59f8e3e626e247bba94146336cdea02f": {
          "model_module": "@jupyter-widgets/controls",
          "model_module_version": "1.5.0",
          "model_name": "HTMLModel",
          "state": {
            "_dom_classes": [],
            "_model_module": "@jupyter-widgets/controls",
            "_model_module_version": "1.5.0",
            "_model_name": "HTMLModel",
            "_view_count": null,
            "_view_module": "@jupyter-widgets/controls",
            "_view_module_version": "1.5.0",
            "_view_name": "HTMLView",
            "description": "",
            "description_tooltip": null,
            "layout": "IPY_MODEL_c7ed4d41f2524651af15054fc601b93b",
            "placeholder": "​",
            "style": "IPY_MODEL_181ba258d92e49ba8eb2d8fb763f0bdf",
            "value": " 1/1 [00:00&lt;00:00, 11.74it/s]"
          }
        },
        "6291ccc136df4a1b9d011ec738709da2": {
          "model_module": "@jupyter-widgets/controls",
          "model_module_version": "1.5.0",
          "model_name": "HTMLModel",
          "state": {
            "_dom_classes": [],
            "_model_module": "@jupyter-widgets/controls",
            "_model_module_version": "1.5.0",
            "_model_name": "HTMLModel",
            "_view_count": null,
            "_view_module": "@jupyter-widgets/controls",
            "_view_module_version": "1.5.0",
            "_view_name": "HTMLView",
            "description": "",
            "description_tooltip": null,
            "layout": "IPY_MODEL_8200cf9645fd4a7181facbebcb6daef4",
            "placeholder": "​",
            "style": "IPY_MODEL_6b980b90511d4d869a2bbff97286b53e",
            "value": "Downloading data files: 100%"
          }
        },
        "6b980b90511d4d869a2bbff97286b53e": {
          "model_module": "@jupyter-widgets/controls",
          "model_module_version": "1.5.0",
          "model_name": "DescriptionStyleModel",
          "state": {
            "_model_module": "@jupyter-widgets/controls",
            "_model_module_version": "1.5.0",
            "_model_name": "DescriptionStyleModel",
            "_view_count": null,
            "_view_module": "@jupyter-widgets/base",
            "_view_module_version": "1.2.0",
            "_view_name": "StyleView",
            "description_width": ""
          }
        },
        "6c712f6809e448b3a310c27a3541e58e": {
          "model_module": "@jupyter-widgets/base",
          "model_module_version": "1.2.0",
          "model_name": "LayoutModel",
          "state": {
            "_model_module": "@jupyter-widgets/base",
            "_model_module_version": "1.2.0",
            "_model_name": "LayoutModel",
            "_view_count": null,
            "_view_module": "@jupyter-widgets/base",
            "_view_module_version": "1.2.0",
            "_view_name": "LayoutView",
            "align_content": null,
            "align_items": null,
            "align_self": null,
            "border": null,
            "bottom": null,
            "display": null,
            "flex": null,
            "flex_flow": null,
            "grid_area": null,
            "grid_auto_columns": null,
            "grid_auto_flow": null,
            "grid_auto_rows": null,
            "grid_column": null,
            "grid_gap": null,
            "grid_row": null,
            "grid_template_areas": null,
            "grid_template_columns": null,
            "grid_template_rows": null,
            "height": null,
            "justify_content": null,
            "justify_items": null,
            "left": null,
            "margin": null,
            "max_height": null,
            "max_width": null,
            "min_height": null,
            "min_width": null,
            "object_fit": null,
            "object_position": null,
            "order": null,
            "overflow": null,
            "overflow_x": null,
            "overflow_y": null,
            "padding": null,
            "right": null,
            "top": null,
            "visibility": null,
            "width": null
          }
        },
        "8200cf9645fd4a7181facbebcb6daef4": {
          "model_module": "@jupyter-widgets/base",
          "model_module_version": "1.2.0",
          "model_name": "LayoutModel",
          "state": {
            "_model_module": "@jupyter-widgets/base",
            "_model_module_version": "1.2.0",
            "_model_name": "LayoutModel",
            "_view_count": null,
            "_view_module": "@jupyter-widgets/base",
            "_view_module_version": "1.2.0",
            "_view_name": "LayoutView",
            "align_content": null,
            "align_items": null,
            "align_self": null,
            "border": null,
            "bottom": null,
            "display": null,
            "flex": null,
            "flex_flow": null,
            "grid_area": null,
            "grid_auto_columns": null,
            "grid_auto_flow": null,
            "grid_auto_rows": null,
            "grid_column": null,
            "grid_gap": null,
            "grid_row": null,
            "grid_template_areas": null,
            "grid_template_columns": null,
            "grid_template_rows": null,
            "height": null,
            "justify_content": null,
            "justify_items": null,
            "left": null,
            "margin": null,
            "max_height": null,
            "max_width": null,
            "min_height": null,
            "min_width": null,
            "object_fit": null,
            "object_position": null,
            "order": null,
            "overflow": null,
            "overflow_x": null,
            "overflow_y": null,
            "padding": null,
            "right": null,
            "top": null,
            "visibility": null,
            "width": null
          }
        },
        "97c990dd1f7f4fd0b66de34898d6fb6d": {
          "model_module": "@jupyter-widgets/base",
          "model_module_version": "1.2.0",
          "model_name": "LayoutModel",
          "state": {
            "_model_module": "@jupyter-widgets/base",
            "_model_module_version": "1.2.0",
            "_model_name": "LayoutModel",
            "_view_count": null,
            "_view_module": "@jupyter-widgets/base",
            "_view_module_version": "1.2.0",
            "_view_name": "LayoutView",
            "align_content": null,
            "align_items": null,
            "align_self": null,
            "border": null,
            "bottom": null,
            "display": null,
            "flex": null,
            "flex_flow": null,
            "grid_area": null,
            "grid_auto_columns": null,
            "grid_auto_flow": null,
            "grid_auto_rows": null,
            "grid_column": null,
            "grid_gap": null,
            "grid_row": null,
            "grid_template_areas": null,
            "grid_template_columns": null,
            "grid_template_rows": null,
            "height": null,
            "justify_content": null,
            "justify_items": null,
            "left": null,
            "margin": null,
            "max_height": null,
            "max_width": null,
            "min_height": null,
            "min_width": null,
            "object_fit": null,
            "object_position": null,
            "order": null,
            "overflow": null,
            "overflow_x": null,
            "overflow_y": null,
            "padding": null,
            "right": null,
            "top": null,
            "visibility": null,
            "width": null
          }
        },
        "b71a79e330c2431cbaf5e13732549b6a": {
          "model_module": "@jupyter-widgets/base",
          "model_module_version": "1.2.0",
          "model_name": "LayoutModel",
          "state": {
            "_model_module": "@jupyter-widgets/base",
            "_model_module_version": "1.2.0",
            "_model_name": "LayoutModel",
            "_view_count": null,
            "_view_module": "@jupyter-widgets/base",
            "_view_module_version": "1.2.0",
            "_view_name": "LayoutView",
            "align_content": null,
            "align_items": null,
            "align_self": null,
            "border": null,
            "bottom": null,
            "display": null,
            "flex": null,
            "flex_flow": null,
            "grid_area": null,
            "grid_auto_columns": null,
            "grid_auto_flow": null,
            "grid_auto_rows": null,
            "grid_column": null,
            "grid_gap": null,
            "grid_row": null,
            "grid_template_areas": null,
            "grid_template_columns": null,
            "grid_template_rows": null,
            "height": null,
            "justify_content": null,
            "justify_items": null,
            "left": null,
            "margin": null,
            "max_height": null,
            "max_width": null,
            "min_height": null,
            "min_width": null,
            "object_fit": null,
            "object_position": null,
            "order": null,
            "overflow": null,
            "overflow_x": null,
            "overflow_y": null,
            "padding": null,
            "right": null,
            "top": null,
            "visibility": null,
            "width": null
          }
        },
        "b7ec9d1cf5304be6b2d9d856c5250869": {
          "model_module": "@jupyter-widgets/controls",
          "model_module_version": "1.5.0",
          "model_name": "HTMLModel",
          "state": {
            "_dom_classes": [],
            "_model_module": "@jupyter-widgets/controls",
            "_model_module_version": "1.5.0",
            "_model_name": "HTMLModel",
            "_view_count": null,
            "_view_module": "@jupyter-widgets/controls",
            "_view_module_version": "1.5.0",
            "_view_name": "HTMLView",
            "description": "",
            "description_tooltip": null,
            "layout": "IPY_MODEL_c208d387027d4ad99384a1b9efe90ee7",
            "placeholder": "​",
            "style": "IPY_MODEL_0b20da24f3bc46fa814e26cffea42573",
            "value": " 0/1 [00:00&lt;?, ?it/s]"
          }
        },
        "c208d387027d4ad99384a1b9efe90ee7": {
          "model_module": "@jupyter-widgets/base",
          "model_module_version": "1.2.0",
          "model_name": "LayoutModel",
          "state": {
            "_model_module": "@jupyter-widgets/base",
            "_model_module_version": "1.2.0",
            "_model_name": "LayoutModel",
            "_view_count": null,
            "_view_module": "@jupyter-widgets/base",
            "_view_module_version": "1.2.0",
            "_view_name": "LayoutView",
            "align_content": null,
            "align_items": null,
            "align_self": null,
            "border": null,
            "bottom": null,
            "display": null,
            "flex": null,
            "flex_flow": null,
            "grid_area": null,
            "grid_auto_columns": null,
            "grid_auto_flow": null,
            "grid_auto_rows": null,
            "grid_column": null,
            "grid_gap": null,
            "grid_row": null,
            "grid_template_areas": null,
            "grid_template_columns": null,
            "grid_template_rows": null,
            "height": null,
            "justify_content": null,
            "justify_items": null,
            "left": null,
            "margin": null,
            "max_height": null,
            "max_width": null,
            "min_height": null,
            "min_width": null,
            "object_fit": null,
            "object_position": null,
            "order": null,
            "overflow": null,
            "overflow_x": null,
            "overflow_y": null,
            "padding": null,
            "right": null,
            "top": null,
            "visibility": null,
            "width": null
          }
        },
        "c48c5645edc94dfd9ac7c9348af06f01": {
          "model_module": "@jupyter-widgets/controls",
          "model_module_version": "1.5.0",
          "model_name": "HBoxModel",
          "state": {
            "_dom_classes": [],
            "_model_module": "@jupyter-widgets/controls",
            "_model_module_version": "1.5.0",
            "_model_name": "HBoxModel",
            "_view_count": null,
            "_view_module": "@jupyter-widgets/controls",
            "_view_module_version": "1.5.0",
            "_view_name": "HBoxView",
            "box_style": "",
            "children": [
              "IPY_MODEL_2ed1cceaa15b4f55b890c483b3029709",
              "IPY_MODEL_246fd9e9c26b474ab8adeb20bdf26e14",
              "IPY_MODEL_b7ec9d1cf5304be6b2d9d856c5250869"
            ],
            "layout": "IPY_MODEL_b71a79e330c2431cbaf5e13732549b6a"
          }
        },
        "c7ed4d41f2524651af15054fc601b93b": {
          "model_module": "@jupyter-widgets/base",
          "model_module_version": "1.2.0",
          "model_name": "LayoutModel",
          "state": {
            "_model_module": "@jupyter-widgets/base",
            "_model_module_version": "1.2.0",
            "_model_name": "LayoutModel",
            "_view_count": null,
            "_view_module": "@jupyter-widgets/base",
            "_view_module_version": "1.2.0",
            "_view_name": "LayoutView",
            "align_content": null,
            "align_items": null,
            "align_self": null,
            "border": null,
            "bottom": null,
            "display": null,
            "flex": null,
            "flex_flow": null,
            "grid_area": null,
            "grid_auto_columns": null,
            "grid_auto_flow": null,
            "grid_auto_rows": null,
            "grid_column": null,
            "grid_gap": null,
            "grid_row": null,
            "grid_template_areas": null,
            "grid_template_columns": null,
            "grid_template_rows": null,
            "height": null,
            "justify_content": null,
            "justify_items": null,
            "left": null,
            "margin": null,
            "max_height": null,
            "max_width": null,
            "min_height": null,
            "min_width": null,
            "object_fit": null,
            "object_position": null,
            "order": null,
            "overflow": null,
            "overflow_x": null,
            "overflow_y": null,
            "padding": null,
            "right": null,
            "top": null,
            "visibility": null,
            "width": null
          }
        },
        "dde56e8076ae44b28c8583da3ff14113": {
          "model_module": "@jupyter-widgets/controls",
          "model_module_version": "1.5.0",
          "model_name": "FloatProgressModel",
          "state": {
            "_dom_classes": [],
            "_model_module": "@jupyter-widgets/controls",
            "_model_module_version": "1.5.0",
            "_model_name": "FloatProgressModel",
            "_view_count": null,
            "_view_module": "@jupyter-widgets/controls",
            "_view_module_version": "1.5.0",
            "_view_name": "ProgressView",
            "bar_style": "success",
            "description": "",
            "description_tooltip": null,
            "layout": "IPY_MODEL_327c2b682d2b44be8fb0e61021a4ac48",
            "max": 1,
            "min": 0,
            "orientation": "horizontal",
            "style": "IPY_MODEL_2613f346dc434001979271278b2b55fe",
            "value": 1
          }
        },
        "f4fd042a35994f0e9b4e8b8a5a35277c": {
          "model_module": "@jupyter-widgets/base",
          "model_module_version": "1.2.0",
          "model_name": "LayoutModel",
          "state": {
            "_model_module": "@jupyter-widgets/base",
            "_model_module_version": "1.2.0",
            "_model_name": "LayoutModel",
            "_view_count": null,
            "_view_module": "@jupyter-widgets/base",
            "_view_module_version": "1.2.0",
            "_view_name": "LayoutView",
            "align_content": null,
            "align_items": null,
            "align_self": null,
            "border": null,
            "bottom": null,
            "display": null,
            "flex": null,
            "flex_flow": null,
            "grid_area": null,
            "grid_auto_columns": null,
            "grid_auto_flow": null,
            "grid_auto_rows": null,
            "grid_column": null,
            "grid_gap": null,
            "grid_row": null,
            "grid_template_areas": null,
            "grid_template_columns": null,
            "grid_template_rows": null,
            "height": null,
            "justify_content": null,
            "justify_items": null,
            "left": null,
            "margin": null,
            "max_height": null,
            "max_width": null,
            "min_height": null,
            "min_width": null,
            "object_fit": null,
            "object_position": null,
            "order": null,
            "overflow": null,
            "overflow_x": null,
            "overflow_y": null,
            "padding": null,
            "right": null,
            "top": null,
            "visibility": null,
            "width": null
          }
        }
      }
    }
  },
  "nbformat": 4,
  "nbformat_minor": 0
}
