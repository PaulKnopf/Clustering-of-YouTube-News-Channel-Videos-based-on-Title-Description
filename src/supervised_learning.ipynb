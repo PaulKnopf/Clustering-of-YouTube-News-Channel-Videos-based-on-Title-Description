{
 "cells": [
  {
   "cell_type": "code",
   "execution_count": 2,
   "outputs": [],
   "source": [
    "from utils import load_data\n",
    "import datasets\n",
    "import torch, spacy\n",
    "import pandas as pd\n",
    "from sklearn.model_selection import train_test_split"
   ],
   "metadata": {
    "collapsed": false,
    "ExecuteTime": {
     "start_time": "2023-07-17T15:16:18.492448Z",
     "end_time": "2023-07-17T15:16:27.302848Z"
    }
   }
  },
  {
   "cell_type": "code",
   "execution_count": 3,
   "metadata": {
    "collapsed": true,
    "ExecuteTime": {
     "start_time": "2023-07-17T15:16:29.036741Z",
     "end_time": "2023-07-17T15:16:34.798168Z"
    }
   },
   "outputs": [
    {
     "name": "stdout",
     "output_type": "stream",
     "text": [
      "counting null values\n",
      "title                             1\n",
      "views                             0\n",
      "time-stamp-upload-milliseconds    0\n",
      "time-stamp                        0\n",
      "date-time-hr                      0\n",
      "upload-time-hr                    0\n",
      "upload-time-stamp                 0\n",
      "description                       0\n",
      "video-length                      0\n",
      "video-length-milliseconds         0\n",
      "channel                           0\n",
      "dtype: int64\n"
     ]
    }
   ],
   "source": [
    "# this part is the same as in \"calculating_embeddings\" to load the datasets\n",
    "\n",
    "# get device proper device to run on\n",
    "if torch.cuda.is_available():\n",
    "    device = \"cuda\"\n",
    "else:\n",
    "    # calculating the embeddings on a cpu can take hours, not recommended\n",
    "    device = \"cpu\"\n",
    "all_records_df = load_data(\"../data/\")\n",
    "\n",
    "# find and delete null values\n",
    "print(\"counting null values\")\n",
    "print(all_records_df.isnull().sum())\n",
    "\n",
    "all_records_df.dropna(axis=0, inplace=True)\n",
    "\n",
    "# also we want a df of individual videos that are identified by title and description\n",
    "videos_df = all_records_df.drop_duplicates([\"title\", \"description\"], keep=\"last\")\n",
    "# note: if you want the first record in videos_df, enter vidoes_df.iloc[0] not videos_df[0]\n",
    "# as the later will try to return the record that has index or id = 0  wich is the index in the all_records_df"
   ]
  },
  {
   "cell_type": "code",
   "execution_count": 4,
   "outputs": [
    {
     "name": "stdout",
     "output_type": "stream",
     "text": [
      "                                                    title   views   \n",
      "28      Twenty years on John Bolton is still defending...   20438  \\\n",
      "29      Paul Bremer on Iraq occupation mistakes and ac...    2829   \n",
      "88      Indian opposition leader Rahul Gandhi disquali...   29224   \n",
      "89      India’s Rahul Gandhi disqualified from parliament   64930   \n",
      "179     TikTok CEO Shou Zi Chew faces off with US legi...    7052   \n",
      "...                                                   ...     ...   \n",
      "228295  How does Bill Clinton's tapes-in-sock-drawer c...  218547   \n",
      "228296  Judge Jeanine: Biden knows he has a lot to hid...  146345   \n",
      "228297  What about the 17 recordings implicating Presi...   41617   \n",
      "228298  Jesse Watters: Biden banned a trans flasher fr...  438730   \n",
      "228299    JD Vance: The DOJ going after Trump is ‘insane’   37934   \n",
      "\n",
      "        time-stamp-upload-milliseconds     time-stamp   \n",
      "28                            87102000  1679754890966  \\\n",
      "29                            87119000  1679754890967   \n",
      "88                            86484000  1679756709612   \n",
      "89                            86672000  1679756709614   \n",
      "179                           86554000  1679759437882   \n",
      "...                                ...            ...   \n",
      "228295                          485000  1686830338884   \n",
      "228296                         1020000  1686830338885   \n",
      "228297                          888000  1686830338887   \n",
      "228298                          534000  1686830338889   \n",
      "228299                          354000  1686830338890   \n",
      "\n",
      "                       date-time-hr               upload-time-hr   \n",
      "28       2023-03-25 15:34:50.966000   2023-03-24 15:23:08.966000  \\\n",
      "29       2023-03-25 15:34:50.967000   2023-03-24 15:22:51.967000   \n",
      "88       2023-03-25 16:05:09.612000   2023-03-24 16:03:45.612000   \n",
      "89       2023-03-25 16:05:09.614000   2023-03-24 16:00:37.614000   \n",
      "179      2023-03-25 16:50:37.882000   2023-03-24 16:48:03.882000   \n",
      "...                             ...                          ...   \n",
      "228295   2023-06-15 13:58:58.884000   2023-06-15 13:50:53.884000   \n",
      "228296   2023-06-15 13:58:58.885000   2023-06-15 13:41:58.885000   \n",
      "228297   2023-06-15 13:58:58.887000   2023-06-15 13:44:10.887000   \n",
      "228298   2023-06-15 13:58:58.889000   2023-06-15 13:50:04.889000   \n",
      "228299   2023-06-15 13:58:58.890000   2023-06-15 13:53:04.890000   \n",
      "\n",
      "        upload-time-stamp                                        description   \n",
      "28          1679667788966   John Bolton was a senior adviser to United St...  \\\n",
      "29          1679667771967   It’s been 20 years since the United States an...   \n",
      "88          1679670225612   Indian opposition leader Rahul Gandhi has bee...   \n",
      "89          1679670037614   India’s main opposition leader Rahul Gandhi h...   \n",
      "179         1679672883882   The head of the world's fastest-growing socia...   \n",
      "...                   ...                                                ...   \n",
      "228295      1686829853884   Mark Levin sounds off on 'Hannity' after Trum...   \n",
      "228296      1686829318885   Judge Jeanine Pirro joined The Brian Kilmeade...   \n",
      "228297      1686829450887   'Fox \\u0026 Friends Weekend' co-host Will Cai...   \n",
      "228298      1686829804889   Actor Kirk Cameron weighs in on transgender a...   \n",
      "228299      1686829984890   Sen. JD Vance R-Ohio shares why he is threate...   \n",
      "\n",
      "                  video-length  video-length-milliseconds             channel  \n",
      "28       11 minutes 42 seconds                     702000  Al-Jazeera-English  \n",
      "29       11 minutes 59 seconds                     719000  Al-Jazeera-English  \n",
      "88         1 minute 24 seconds                      84000  Al-Jazeera-English  \n",
      "89        4 minutes 32 seconds                     272000  Al-Jazeera-English  \n",
      "179       2 minutes 34 seconds                     154000  Al-Jazeera-English  \n",
      "...                        ...                        ...                 ...  \n",
      "228295     8 minutes 5 seconds                     485000            Fox-News  \n",
      "228296   17 minutes 26 seconds                    1046000            Fox-News  \n",
      "228297   14 minutes 48 seconds                     888000            Fox-News  \n",
      "228298    8 minutes 54 seconds                     534000            Fox-News  \n",
      "228299    5 minutes 54 seconds                     354000            Fox-News  \n",
      "\n",
      "[7908 rows x 11 columns]\n"
     ]
    }
   ],
   "source": [
    "print(videos_df)"
   ],
   "metadata": {
    "collapsed": false,
    "ExecuteTime": {
     "start_time": "2023-07-17T15:18:05.141703Z",
     "end_time": "2023-07-17T15:18:05.150506Z"
    }
   }
  },
  {
   "cell_type": "code",
   "execution_count": 9,
   "outputs": [],
   "source": [
    "videos_df.sample(n=round(videos_df.shape[0]*0.1), random_state = 100).to_csv(r'..\\data\\supervised_training.csv', index=False)\n",
    "# Label the topics manually and save it in another csv file..."
   ],
   "metadata": {
    "collapsed": false,
    "ExecuteTime": {
     "start_time": "2023-07-17T15:25:50.502972Z",
     "end_time": "2023-07-17T15:25:50.514822Z"
    }
   }
  },
  {
   "cell_type": "code",
   "execution_count": 12,
   "outputs": [],
   "source": [
    "# videos_df.sample(n=200, random_state = 200).to_csv(r'..\\data\\supervised_training_gpt.csv', index=False)\n",
    "# chat GPT geht nicht"
   ],
   "metadata": {
    "collapsed": false,
    "ExecuteTime": {
     "start_time": "2023-07-03T12:19:07.918559Z",
     "end_time": "2023-07-03T12:19:07.929840Z"
    }
   }
  },
  {
   "cell_type": "markdown",
   "source": [],
   "metadata": {
    "collapsed": false
   }
  },
  {
   "cell_type": "markdown",
   "source": [],
   "metadata": {
    "collapsed": false
   }
  },
  {
   "cell_type": "code",
   "execution_count": 7,
   "outputs": [],
   "source": [
    "# get the labelled data for training\n",
    "df = pd.read_csv('..\\data\\supervised_training_labelled.csv')\n",
    "\n",
    "# tokenize using SpaCy\n",
    "nlp = spacy.load(\"en_core_web_lg\")\n",
    "df['text'] = df['title'] + \" \" + df['description']\n",
    "df['tokens'] = [nlp(text).vector for text in df['text']]\n",
    "\n",
    "# convert tokens to a 2D array\n",
    "train_vectors = df['tokens'].to_numpy()\n",
    "\n",
    "# prepare target labels\n",
    "labels = df['topic'].to_numpy()\n"
   ],
   "metadata": {
    "collapsed": false,
    "ExecuteTime": {
     "start_time": "2023-07-03T12:07:54.829028Z",
     "end_time": "2023-07-03T12:07:59.833052Z"
    }
   }
  },
  {
   "cell_type": "code",
   "execution_count": null,
   "outputs": [],
   "source": [
    "X_train, X_test, y_train, y_test = train_test_split(train_vectors, labels, test_size=0.2, random_state=42)"
   ],
   "metadata": {
    "collapsed": false
   }
  }
 ],
 "metadata": {
  "kernelspec": {
   "display_name": "Python 3",
   "language": "python",
   "name": "python3"
  },
  "language_info": {
   "codemirror_mode": {
    "name": "ipython",
    "version": 2
   },
   "file_extension": ".py",
   "mimetype": "text/x-python",
   "name": "python",
   "nbconvert_exporter": "python",
   "pygments_lexer": "ipython2",
   "version": "2.7.6"
  }
 },
 "nbformat": 4,
 "nbformat_minor": 0
}
