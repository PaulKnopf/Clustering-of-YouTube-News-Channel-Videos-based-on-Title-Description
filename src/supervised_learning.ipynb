{
 "cells": [
  {
   "cell_type": "code",
   "execution_count": 12,
   "outputs": [],
   "source": [
    "from utils import load_csv_data\n",
    "import datasets\n",
    "import torch, spacy\n",
    "import pandas as pd\n",
    "from sklearn.model_selection import train_test_split\n",
    "from sklearn.feature_extraction.text import TfidfVectorizer\n",
    "from sklearn.feature_extraction.text import CountVectorizer\n",
    "from sklearn.ensemble import RandomForestClassifier\n",
    "from sklearn.svm import SVC\n",
    "from sklearn.metrics import classification_report"
   ],
   "metadata": {
    "collapsed": false,
    "ExecuteTime": {
     "start_time": "2023-07-17T22:09:52.342021Z",
     "end_time": "2023-07-17T22:09:52.347036Z"
    }
   }
  },
  {
   "cell_type": "code",
   "execution_count": 4,
   "metadata": {
    "collapsed": true,
    "ExecuteTime": {
     "start_time": "2023-07-17T21:55:10.828026Z",
     "end_time": "2023-07-17T21:55:16.590626Z"
    }
   },
   "outputs": [
    {
     "name": "stdout",
     "output_type": "stream",
     "text": [
      "counting null values\n",
      "title                             1\n",
      "views                             0\n",
      "time-stamp-upload-milliseconds    0\n",
      "time-stamp                        0\n",
      "date-time-hr                      0\n",
      "upload-time-hr                    0\n",
      "upload-time-stamp                 0\n",
      "description                       0\n",
      "video-length                      0\n",
      "video-length-milliseconds         0\n",
      "channel                           0\n",
      "dtype: int64\n"
     ]
    }
   ],
   "source": [
    "# this part is the same as in \"calculating_embeddings\" to load the datasets\n",
    "\n",
    "# get device proper device to run on\n",
    "if torch.cuda.is_available():\n",
    "    device = \"cuda\"\n",
    "else:\n",
    "    # calculating the embeddings on a cpu can take hours, not recommended\n",
    "    device = \"cpu\"\n",
    "all_records_df = load_csv_data(\"../data/all_records_csvs\")\n",
    "\n",
    "# find and delete null values\n",
    "print(\"counting null values\")\n",
    "print(all_records_df.isnull().sum())\n",
    "\n",
    "all_records_df.dropna(axis=0, inplace=True)\n",
    "\n",
    "# also we want a df of individual videos that are identified by title and description\n",
    "videos_df = all_records_df.drop_duplicates([\"title\", \"description\"], keep=\"last\")\n",
    "# note: if you want the first record in videos_df, enter vidoes_df.iloc[0] not videos_df[0]\n",
    "# as the later will try to return the record that has index or id = 0  wich is the index in the all_records_df"
   ]
  },
  {
   "cell_type": "code",
   "execution_count": 5,
   "outputs": [
    {
     "name": "stdout",
     "output_type": "stream",
     "text": [
      "                                                    title   views   \n",
      "28      Twenty years on John Bolton is still defending...   20438  \\\n",
      "29      Paul Bremer on Iraq occupation mistakes and ac...    2829   \n",
      "88      Indian opposition leader Rahul Gandhi disquali...   29224   \n",
      "89      India’s Rahul Gandhi disqualified from parliament   64930   \n",
      "179     TikTok CEO Shou Zi Chew faces off with US legi...    7052   \n",
      "...                                                   ...     ...   \n",
      "228295  How does Bill Clinton's tapes-in-sock-drawer c...  218547   \n",
      "228296  Judge Jeanine: Biden knows he has a lot to hid...  146345   \n",
      "228297  What about the 17 recordings implicating Presi...   41617   \n",
      "228298  Jesse Watters: Biden banned a trans flasher fr...  438730   \n",
      "228299    JD Vance: The DOJ going after Trump is ‘insane’   37934   \n",
      "\n",
      "        time-stamp-upload-milliseconds     time-stamp   \n",
      "28                            87102000  1679754890966  \\\n",
      "29                            87119000  1679754890967   \n",
      "88                            86484000  1679756709612   \n",
      "89                            86672000  1679756709614   \n",
      "179                           86554000  1679759437882   \n",
      "...                                ...            ...   \n",
      "228295                          485000  1686830338884   \n",
      "228296                         1020000  1686830338885   \n",
      "228297                          888000  1686830338887   \n",
      "228298                          534000  1686830338889   \n",
      "228299                          354000  1686830338890   \n",
      "\n",
      "                       date-time-hr               upload-time-hr   \n",
      "28       2023-03-25 15:34:50.966000   2023-03-24 15:23:08.966000  \\\n",
      "29       2023-03-25 15:34:50.967000   2023-03-24 15:22:51.967000   \n",
      "88       2023-03-25 16:05:09.612000   2023-03-24 16:03:45.612000   \n",
      "89       2023-03-25 16:05:09.614000   2023-03-24 16:00:37.614000   \n",
      "179      2023-03-25 16:50:37.882000   2023-03-24 16:48:03.882000   \n",
      "...                             ...                          ...   \n",
      "228295   2023-06-15 13:58:58.884000   2023-06-15 13:50:53.884000   \n",
      "228296   2023-06-15 13:58:58.885000   2023-06-15 13:41:58.885000   \n",
      "228297   2023-06-15 13:58:58.887000   2023-06-15 13:44:10.887000   \n",
      "228298   2023-06-15 13:58:58.889000   2023-06-15 13:50:04.889000   \n",
      "228299   2023-06-15 13:58:58.890000   2023-06-15 13:53:04.890000   \n",
      "\n",
      "        upload-time-stamp                                        description   \n",
      "28          1679667788966   John Bolton was a senior adviser to United St...  \\\n",
      "29          1679667771967   It’s been 20 years since the United States an...   \n",
      "88          1679670225612   Indian opposition leader Rahul Gandhi has bee...   \n",
      "89          1679670037614   India’s main opposition leader Rahul Gandhi h...   \n",
      "179         1679672883882   The head of the world's fastest-growing socia...   \n",
      "...                   ...                                                ...   \n",
      "228295      1686829853884   Mark Levin sounds off on 'Hannity' after Trum...   \n",
      "228296      1686829318885   Judge Jeanine Pirro joined The Brian Kilmeade...   \n",
      "228297      1686829450887   'Fox \\u0026 Friends Weekend' co-host Will Cai...   \n",
      "228298      1686829804889   Actor Kirk Cameron weighs in on transgender a...   \n",
      "228299      1686829984890   Sen. JD Vance R-Ohio shares why he is threate...   \n",
      "\n",
      "                  video-length  video-length-milliseconds             channel  \n",
      "28       11 minutes 42 seconds                     702000  Al-Jazeera-English  \n",
      "29       11 minutes 59 seconds                     719000  Al-Jazeera-English  \n",
      "88         1 minute 24 seconds                      84000  Al-Jazeera-English  \n",
      "89        4 minutes 32 seconds                     272000  Al-Jazeera-English  \n",
      "179       2 minutes 34 seconds                     154000  Al-Jazeera-English  \n",
      "...                        ...                        ...                 ...  \n",
      "228295     8 minutes 5 seconds                     485000            Fox-News  \n",
      "228296   17 minutes 26 seconds                    1046000            Fox-News  \n",
      "228297   14 minutes 48 seconds                     888000            Fox-News  \n",
      "228298    8 minutes 54 seconds                     534000            Fox-News  \n",
      "228299    5 minutes 54 seconds                     354000            Fox-News  \n",
      "\n",
      "[7908 rows x 11 columns]\n"
     ]
    }
   ],
   "source": [
    "print(videos_df)"
   ],
   "metadata": {
    "collapsed": false,
    "ExecuteTime": {
     "start_time": "2023-07-17T21:55:24.747392Z",
     "end_time": "2023-07-17T21:55:24.772843Z"
    }
   }
  },
  {
   "cell_type": "markdown",
   "source": [
    "# Labelling dataset for supervised learning\n",
    "- There are no labels provided in the dataset, nevertheless, we would like to try out supervised learning.\n",
    "- 10% of the videos are randomly selected below for training."
   ],
   "metadata": {
    "collapsed": false
   }
  },
  {
   "cell_type": "code",
   "execution_count": 6,
   "outputs": [],
   "source": [
    "# randomly select 10% of the dataset and save as csv file\n",
    "videos_df.sample(n=round(videos_df.shape[0]*0.1), random_state = 100).to_csv(r'..\\data\\supervised_training.csv', index=False)\n"
   ],
   "metadata": {
    "collapsed": false,
    "ExecuteTime": {
     "start_time": "2023-07-17T21:55:28.248652Z",
     "end_time": "2023-07-17T21:55:28.281808Z"
    }
   }
  },
  {
   "cell_type": "markdown",
   "source": [
    "- Now the labels have to be done manually and the labelled data is saved in another csv file as `..\\data\\supervised_training_labelled.csv`.\n",
    "- After that, this labelled file is read as a dataframe again.\n",
    "- This labelled data is split into train set (80%) and test set (20%)."
   ],
   "metadata": {
    "collapsed": false
   }
  },
  {
   "cell_type": "code",
   "execution_count": 9,
   "outputs": [],
   "source": [
    "# get the labelled data for training\n",
    "df = pd.read_csv('..\\data\\supervised_training_labelled.csv')\n",
    "\n",
    "# split the dataset into training and testing sets\n",
    "train_df, test_df = train_test_split(df, test_size=0.2, random_state=123)\n"
   ],
   "metadata": {
    "collapsed": false,
    "ExecuteTime": {
     "start_time": "2023-07-17T22:04:57.782068Z",
     "end_time": "2023-07-17T22:04:57.794179Z"
    }
   }
  },
  {
   "cell_type": "markdown",
   "source": [
    "# Features\n",
    "- 2 features are implemented here: TF-IDF and Bag-of-Words."
   ],
   "metadata": {
    "collapsed": false
   }
  },
  {
   "cell_type": "code",
   "execution_count": 10,
   "outputs": [],
   "source": [
    "# feature extraction using TF-IDF\n",
    "vectorizer_TfIdf = TfidfVectorizer()\n",
    "X_train_TfIdf = vectorizer_TfIdf.fit_transform(train_df['title'] + ' ' + train_df['description'])\n",
    "Y_train_TfIdf = train_df['topic']\n",
    "X_test_TfIdf = vectorizer_TfIdf.transform(test_df['title'] + ' ' + test_df['description'])\n",
    "Y_test_TfIdf = test_df['topic']"
   ],
   "metadata": {
    "collapsed": false,
    "ExecuteTime": {
     "start_time": "2023-07-17T22:09:45.713288Z",
     "end_time": "2023-07-17T22:09:45.759723Z"
    }
   }
  },
  {
   "cell_type": "code",
   "execution_count": 13,
   "outputs": [],
   "source": [
    "# feature extraction using Bag-of-Words (BoW)\n",
    "vectorizer_BoW = CountVectorizer()\n",
    "X_train_BoW = vectorizer_BoW.fit_transform(train_df['title'] + ' ' + train_df['description'])\n",
    "Y_train_BoW = train_df['topic']\n",
    "X_test_BoW = vectorizer_BoW.transform(test_df['title'] + ' ' + test_df['description'])\n",
    "Y_test_BoW = test_df['topic']"
   ],
   "metadata": {
    "collapsed": false,
    "ExecuteTime": {
     "start_time": "2023-07-17T22:09:55.688393Z",
     "end_time": "2023-07-17T22:09:55.716638Z"
    }
   }
  },
  {
   "cell_type": "markdown",
   "source": [
    "# Learning\n",
    "- SVM is applied separately on TF-IDF and BoW.\n",
    "- The results are then compared."
   ],
   "metadata": {
    "collapsed": false
   }
  },
  {
   "cell_type": "code",
   "execution_count": 14,
   "outputs": [
    {
     "name": "stdout",
     "output_type": "stream",
     "text": [
      "SVM Classifier Results using TF-IDF:\n",
      "                      precision    recall  f1-score   support\n",
      "\n",
      "                   ?       0.00      0.00      0.00         1\n",
      "            Business       0.00      0.00      0.00         7\n",
      "   Culture & Leisure       0.00      0.00      0.00         4\n",
      "           Editorial       0.86      0.67      0.75        18\n",
      "         Environment       0.00      0.00      0.00         3\n",
      "              Health       0.00      0.00      0.00         1\n",
      "       International       0.48      0.78      0.60        46\n",
      "               Local       0.73      0.36      0.48        22\n",
      "            Politics       0.59      0.76      0.67        46\n",
      "Science & Technology       0.00      0.00      0.00         9\n",
      "              Sports       0.00      0.00      0.00         2\n",
      "\n",
      "            accuracy                           0.57       159\n",
      "           macro avg       0.24      0.23      0.23       159\n",
      "        weighted avg       0.51      0.57      0.52       159\n",
      "\n",
      "\n"
     ]
    },
    {
     "name": "stderr",
     "output_type": "stream",
     "text": [
      "C:\\Users\\zoela\\AppData\\Local\\Programs\\Python\\Python311\\Lib\\site-packages\\sklearn\\metrics\\_classification.py:1344: UndefinedMetricWarning: Precision and F-score are ill-defined and being set to 0.0 in labels with no predicted samples. Use `zero_division` parameter to control this behavior.\n",
      "  _warn_prf(average, modifier, msg_start, len(result))\n",
      "C:\\Users\\zoela\\AppData\\Local\\Programs\\Python\\Python311\\Lib\\site-packages\\sklearn\\metrics\\_classification.py:1344: UndefinedMetricWarning: Precision and F-score are ill-defined and being set to 0.0 in labels with no predicted samples. Use `zero_division` parameter to control this behavior.\n",
      "  _warn_prf(average, modifier, msg_start, len(result))\n",
      "C:\\Users\\zoela\\AppData\\Local\\Programs\\Python\\Python311\\Lib\\site-packages\\sklearn\\metrics\\_classification.py:1344: UndefinedMetricWarning: Precision and F-score are ill-defined and being set to 0.0 in labels with no predicted samples. Use `zero_division` parameter to control this behavior.\n",
      "  _warn_prf(average, modifier, msg_start, len(result))\n"
     ]
    },
    {
     "name": "stdout",
     "output_type": "stream",
     "text": [
      "SVM Classifier Results using Bag-of-Words:\n",
      "                      precision    recall  f1-score   support\n",
      "\n",
      "                   ?       0.00      0.00      0.00         1\n",
      "            Business       0.00      0.00      0.00         7\n",
      "   Culture & Leisure       0.00      0.00      0.00         4\n",
      "           Editorial       0.74      0.78      0.76        18\n",
      "         Environment       0.00      0.00      0.00         3\n",
      "              Health       0.00      0.00      0.00         1\n",
      "       International       0.51      0.76      0.61        46\n",
      "               Local       0.50      0.32      0.39        22\n",
      "            Politics       0.64      0.80      0.71        46\n",
      "Science & Technology       0.00      0.00      0.00         9\n",
      "              Sports       0.00      0.00      0.00         2\n",
      "\n",
      "            accuracy                           0.58       159\n",
      "           macro avg       0.22      0.24      0.22       159\n",
      "        weighted avg       0.49      0.58      0.52       159\n",
      "\n",
      "\n"
     ]
    },
    {
     "name": "stderr",
     "output_type": "stream",
     "text": [
      "C:\\Users\\zoela\\AppData\\Local\\Programs\\Python\\Python311\\Lib\\site-packages\\sklearn\\metrics\\_classification.py:1344: UndefinedMetricWarning: Precision and F-score are ill-defined and being set to 0.0 in labels with no predicted samples. Use `zero_division` parameter to control this behavior.\n",
      "  _warn_prf(average, modifier, msg_start, len(result))\n",
      "C:\\Users\\zoela\\AppData\\Local\\Programs\\Python\\Python311\\Lib\\site-packages\\sklearn\\metrics\\_classification.py:1344: UndefinedMetricWarning: Precision and F-score are ill-defined and being set to 0.0 in labels with no predicted samples. Use `zero_division` parameter to control this behavior.\n",
      "  _warn_prf(average, modifier, msg_start, len(result))\n",
      "C:\\Users\\zoela\\AppData\\Local\\Programs\\Python\\Python311\\Lib\\site-packages\\sklearn\\metrics\\_classification.py:1344: UndefinedMetricWarning: Precision and F-score are ill-defined and being set to 0.0 in labels with no predicted samples. Use `zero_division` parameter to control this behavior.\n",
      "  _warn_prf(average, modifier, msg_start, len(result))\n"
     ]
    }
   ],
   "source": [
    "# apply Support Vector Machine (SVM) Classifier\n",
    "# on TF-IDF\n",
    "svm_classifier_TfIdf = SVC()\n",
    "svm_classifier_TfIdf.fit(X_train_TfIdf, Y_train_TfIdf)\n",
    "svm_predictions_TfIdf = svm_classifier_TfIdf.predict(X_test_TfIdf)\n",
    "\n",
    "print('SVM Classifier Results using TF-IDF:')\n",
    "print(classification_report(Y_test_TfIdf, svm_predictions_TfIdf))\n",
    "print()\n",
    "\n",
    "# on Bag-of-Words\n",
    "svm_classifier_BoW = SVC()\n",
    "svm_classifier_BoW.fit(X_train_BoW, Y_train_BoW)\n",
    "svm_predictions_BoW = svm_classifier_BoW.predict(X_test_BoW)\n",
    "\n",
    "print('SVM Classifier Results using Bag-of-Words:')\n",
    "print(classification_report(Y_test_BoW, svm_predictions_BoW))\n",
    "print()\n"
   ],
   "metadata": {
    "collapsed": false,
    "ExecuteTime": {
     "start_time": "2023-07-17T22:29:33.598217Z",
     "end_time": "2023-07-17T22:29:34.214118Z"
    }
   }
  },
  {
   "cell_type": "markdown",
   "source": [
    "- TF-IDF has an accuracy of 57% whereas BoW 58%. So these two features performed similarly and not well on the dataset.\n",
    "\n",
    "# Clustering on the entire dataset\n",
    "- Although the performance metrics are not good, they are still applied to our dataset.\n",
    "- Classes labelled by SVM, using TF-IDF and BoW separately, are stored into the dataframe and also a csv file."
   ],
   "metadata": {
    "collapsed": false
   }
  },
  {
   "cell_type": "code",
   "execution_count": 16,
   "outputs": [
    {
     "name": "stderr",
     "output_type": "stream",
     "text": [
      "C:\\Users\\zoela\\AppData\\Local\\Temp\\ipykernel_24724\\2616259562.py:4: SettingWithCopyWarning: \n",
      "A value is trying to be set on a copy of a slice from a DataFrame.\n",
      "Try using .loc[row_indexer,col_indexer] = value instead\n",
      "\n",
      "See the caveats in the documentation: https://pandas.pydata.org/pandas-docs/stable/user_guide/indexing.html#returning-a-view-versus-a-copy\n",
      "  videos_df['topic(TF-IDF)'] = svm_classifier_TfIdf.predict(X_allVideos_TfIdf)\n",
      "C:\\Users\\zoela\\AppData\\Local\\Temp\\ipykernel_24724\\2616259562.py:5: SettingWithCopyWarning: \n",
      "A value is trying to be set on a copy of a slice from a DataFrame.\n",
      "Try using .loc[row_indexer,col_indexer] = value instead\n",
      "\n",
      "See the caveats in the documentation: https://pandas.pydata.org/pandas-docs/stable/user_guide/indexing.html#returning-a-view-versus-a-copy\n",
      "  videos_df['topic(BoW)'] = svm_classifier_BoW.predict(X_allVideos_BoW)\n"
     ]
    }
   ],
   "source": [
    "# extract features from the entire dataset\n",
    "X_allVideos_TfIdf = vectorizer_TfIdf.transform(videos_df['title'] + ' ' + videos_df['description'])\n",
    "X_allVideos_BoW = vectorizer_BoW.transform(videos_df['title'] + ' ' + videos_df['description'])\n",
    "\n",
    "# store the classes into new columns\n",
    "videos_df['topic(TF-IDF)'] = svm_classifier_TfIdf.predict(X_allVideos_TfIdf)\n",
    "videos_df['topic(BoW)'] = svm_classifier_BoW.predict(X_allVideos_BoW)"
   ],
   "metadata": {
    "collapsed": false,
    "ExecuteTime": {
     "start_time": "2023-07-17T22:37:33.143209Z",
     "end_time": "2023-07-17T22:37:35.754809Z"
    }
   }
  },
  {
   "cell_type": "code",
   "execution_count": 17,
   "outputs": [],
   "source": [
    "# export to csv file\n",
    "videos_df.to_csv(r'..\\data\\supervised_results.csv', index=False)"
   ],
   "metadata": {
    "collapsed": false,
    "ExecuteTime": {
     "start_time": "2023-07-17T22:39:00.710072Z",
     "end_time": "2023-07-17T22:39:00.783921Z"
    }
   }
  }
 ],
 "metadata": {
  "kernelspec": {
   "display_name": "Python 3",
   "language": "python",
   "name": "python3"
  },
  "language_info": {
   "codemirror_mode": {
    "name": "ipython",
    "version": 2
   },
   "file_extension": ".py",
   "mimetype": "text/x-python",
   "name": "python",
   "nbconvert_exporter": "python",
   "pygments_lexer": "ipython2",
   "version": "2.7.6"
  }
 },
 "nbformat": 4,
 "nbformat_minor": 0
}
