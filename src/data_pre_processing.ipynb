{
 "cells": [
  {
   "cell_type": "code",
   "execution_count": 1,
   "metadata": {
    "ExecuteTime": {
     "end_time": "2023-07-03T17:48:18.233007Z",
     "start_time": "2023-07-03T17:48:18.224417Z"
    },
    "collapsed": false
   },
   "outputs": [],
   "source": [
    "# load libraries\n",
    "import datasets\n",
    "import re"
   ]
  },
  {
   "cell_type": "code",
   "execution_count": 2,
   "metadata": {
    "ExecuteTime": {
     "end_time": "2023-07-03T17:15:34.655600Z",
     "start_time": "2023-07-03T17:15:34.617039Z"
    },
    "collapsed": true
   },
   "outputs": [],
   "source": [
    "# load video data\n",
    "video_data = datasets.Dataset.load_from_disk(\"../data/videos/\")\n",
    "descriptions = video_data['description']\n",
    "titles = video_data['title']"
   ]
  },
  {
   "cell_type": "code",
   "execution_count": 3,
   "metadata": {
    "ExecuteTime": {
     "end_time": "2023-07-03T16:39:58.457100Z",
     "start_time": "2023-07-03T16:39:58.450531Z"
    },
    "collapsed": false
   },
   "outputs": [
    {
     "data": {
      "text/plain": [
       "\" Former President Donald Trump weighs in on allegations against the Biden family's business dealings on 'Hannity.'\\\\n\\\\nSubscribe to Fox News! https://bit.ly/2vBUvAS\\\\nWatch more Fox News Video: http://vi...\""
      ]
     },
     "execution_count": 3,
     "metadata": {},
     "output_type": "execute_result"
    }
   ],
   "source": [
    "# clean descriptions\n",
    "des = descriptions[7567]\n",
    "des"
   ]
  },
  {
   "cell_type": "code",
   "execution_count": 13,
   "metadata": {
    "ExecuteTime": {
     "end_time": "2023-07-03T17:22:16.762820Z",
     "start_time": "2023-07-03T17:22:15.687065Z"
    },
    "collapsed": false
   },
   "outputs": [],
   "source": [
    "def clean_description(d):\n",
    "    return re.sub(\n",
    "        '(Subscribe to)|'\n",
    "        '((http).*(Watch))|'\n",
    "        '((http).*(\\.\\.\\.))|'\n",
    "        '(News Agency)|(News)|'\n",
    "        '(Fox)|(CNN)|(BBC)|(DW)|(CCTV)|(Al Jazeera)|(#foxnews)|(#fox)|(#ingrahamangle)'\n",
    "        '(\\\\\\\\u0026 Friends Weekend)|'\n",
    "        '(\\\\\\\\n)|(\\\\\\\\r)', '', d)\n",
    "\n",
    "def clean_title(t):\n",
    "    return re.sub(\n",
    "        '(Subscribe to)|'\n",
    "        '((http).*(Watch))|'  # complete youtube links\n",
    "        '((http).*(\\.\\.\\.))|'  # cut off links\n",
    "        '(Newsfeed)|(News Agency)|(News)|'\n",
    "        '(Fox)|(CNN)|(BBC)|(DW)|(CCTV)|(Al Jazeera)|(#foxnews)|(#fox)|(#ingrahamangle)'  # cha\n",
    "        '(\\\\\\\\u0026 Friends Weekend)|'\n",
    "        '(\\\\\\\\n)|(\\\\\\\\r)|'\n",
    "        '(\\| The Stream)', '', t)"
   ]
  },
  {
   "cell_type": "code",
   "execution_count": 15,
   "metadata": {
    "collapsed": false
   },
   "outputs": [
    {
     "name": "stderr",
     "output_type": "stream",
     "text": [
      "Loading cached processed dataset at c:\\Users\\mxwur\\Documents\\Studium\\Module\\8. Semester\\NLP\\project\\NLP-Clustering-News-Outlets\\data\\videos\\cache-b1d22746a1cb16d8.arrow\n"
     ]
    },
    {
     "data": {
      "application/vnd.jupyter.widget-view+json": {
       "model_id": "775deafd4c7c4502ba5640fce8fa9773",
       "version_major": 2,
       "version_minor": 0
      },
      "text/plain": [
       "Map:   0%|          | 0/7908 [00:00<?, ? examples/s]"
      ]
     },
     "metadata": {},
     "output_type": "display_data"
    }
   ],
   "source": [
    "# TODO: assign values or create new dataset\n",
    "# Process the dataset - add a column with the length of the context texts\n",
    "dataset_with_length = video_data.map(lambda x: {\"length\": len(x[\"title\"])})\n",
    "# add values to new column\n",
    "tokenized_dataset = video_data.map(lambda x: {\"title_cleaned\": clean_title(t)})"
   ]
  },
  {
   "cell_type": "code",
   "execution_count": null,
   "metadata": {},
   "outputs": [],
   "source": [
    "# was auch ginge wäre: du erstellst diene list of pre_processed_titles mit dem for loop\n",
    "# und dann machst du dataset.add_column wie folgt\n",
    "dataset_with_length.add_column(\"cleaned_title\", pre_processed_titles)"
   ]
  }
 ],
 "metadata": {
  "kernelspec": {
   "display_name": "Python 3",
   "language": "python",
   "name": "python3"
  },
  "language_info": {
   "codemirror_mode": {
    "name": "ipython",
    "version": 3
   },
   "file_extension": ".py",
   "mimetype": "text/x-python",
   "name": "python",
   "nbconvert_exporter": "python",
   "pygments_lexer": "ipython3",
   "version": "3.9.13"
  }
 },
 "nbformat": 4,
 "nbformat_minor": 0
}
