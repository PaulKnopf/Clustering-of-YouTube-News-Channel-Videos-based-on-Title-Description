{
 "cells": [
  {
   "cell_type": "code",
   "execution_count": 1,
   "metadata": {},
   "outputs": [],
   "source": [
    "import datasets\n",
    "import torch"
   ]
  },
  {
   "cell_type": "code",
   "execution_count": 2,
   "metadata": {},
   "outputs": [
    {
     "name": "stdout",
     "output_type": "stream",
     "text": [
      "cuda\n"
     ]
    }
   ],
   "source": [
    "# get device proper device to run on \n",
    "if torch.cuda.is_available():\n",
    "    device = \"cuda\"\n",
    "else: \n",
    "    # calculating the embeddings on a cpu can take hours, not recommended\n",
    "    device = \"cpu\"\n",
    "print(device)"
   ]
  },
  {
   "cell_type": "code",
   "execution_count": 3,
   "metadata": {},
   "outputs": [
    {
     "name": "stdout",
     "output_type": "stream",
     "text": [
      "Dataset({\n",
      "    features: ['id', 'title', 'description', 'text', 'channel'],\n",
      "    num_rows: 7908\n",
      "})\n",
      "Dataset({\n",
      "    features: ['title', 'views', 'time-stamp-upload-milliseconds', 'time-stamp', 'date-time-hr', 'upload-time-hr', 'upload-time-stamp', 'description', 'video-length', 'video-length-milliseconds', 'channel', 'id'],\n",
      "    num_rows: 1369223\n",
      "})\n"
     ]
    }
   ],
   "source": [
    "video_data = datasets.Dataset.load_from_disk(\"../data/videos/\")\n",
    "all_records_data = datasets.Dataset.load_from_disk(\"../data/all_records/\")\n",
    "print(video_data)\n",
    "print(all_records_data)"
   ]
  },
  {
   "cell_type": "code",
   "execution_count": 4,
   "metadata": {},
   "outputs": [
    {
     "name": "stderr",
     "output_type": "stream",
     "text": [
      "c:\\Users\\mxwur\\anaconda3\\envs\\nlp\\lib\\site-packages\\transformers\\models\\t5\\tokenization_t5_fast.py:155: FutureWarning: This tokenizer was incorrectly instantiated with a model max length of 512 which will be corrected in Transformers v5.\n",
      "For now, this behavior is kept to avoid breaking backwards compatibility when padding/encoding with `truncation is True`.\n",
      "- Be aware that you SHOULD NOT rely on t5-base automatically truncating your input to 512 when padding/encoding.\n",
      "- If you want to encode/pad to sequences longer than 512 you can either instantiate this tokenizer with `model_max_length` or pass `max_length` when encoding/padding.\n",
      "- To avoid this warning, please instantiate this tokenizer with `model_max_length` set to your preferred value.\n",
      "  warnings.warn(\n"
     ]
    }
   ],
   "source": [
    "from transformers import AutoTokenizer, AutoModel\n",
    "\n",
    "model_name = \"t5-base\"\n",
    "\n",
    "tokenizer = AutoTokenizer.from_pretrained(model_name)\n",
    "model = AutoModel.from_pretrained(model_name)\n",
    "model = model.to(device)"
   ]
  },
  {
   "cell_type": "code",
   "execution_count": 5,
   "metadata": {},
   "outputs": [],
   "source": [
    "def tokenize_text(text):\n",
    "    encoded_input = tokenizer.encode_plus(\n",
    "        text,\n",
    "        add_special_tokens=True,\n",
    "        return_tensors='pt',\n",
    "        padding='max_length',\n",
    "        truncation=True,\n",
    "    )\n",
    "    return encoded_input\n",
    "\n",
    "def tokenize_record(record):\n",
    "    return tokenize_text(record[\"text\"])"
   ]
  },
  {
   "cell_type": "code",
   "execution_count": 8,
   "metadata": {},
   "outputs": [
    {
     "data": {
      "application/vnd.jupyter.widget-view+json": {
       "model_id": "33c6d1a564504a90ba92b4ae5319695f",
       "version_major": 2,
       "version_minor": 0
      },
      "text/plain": [
       "Map:   0%|          | 0/7908 [00:00<?, ? examples/s]"
      ]
     },
     "metadata": {},
     "output_type": "display_data"
    }
   ],
   "source": [
    "data_tokenized = video_data.map(tokenize_record)\n",
    "data_tokenized.set_format(\"torch\")"
   ]
  },
  {
   "cell_type": "code",
   "execution_count": 21,
   "metadata": {},
   "outputs": [],
   "source": [
    "def get_embeddings(input):\n",
    "    with torch.no_grad():\n",
    "        model_output = model.encoder(\n",
    "            input_ids=input[\"input_ids\"].to(device),\n",
    "            attention_mask=input[\"attention_mask\"].to(device),\n",
    "        )\n",
    "        last_hidden_state = model_output.last_hidden_state\n",
    "\n",
    "    return dict(embeddings=last_hidden_state)"
   ]
  },
  {
   "cell_type": "code",
   "execution_count": 27,
   "metadata": {},
   "outputs": [],
   "source": [
    "data_tokenized = data_tokenized.map(get_embeddings)"
   ]
  },
  {
   "cell_type": "code",
   "execution_count": 28,
   "metadata": {},
   "outputs": [],
   "source": [
    "# save to disk\n",
    "data_tokenized.select_columns([\"id\", \"embeddings\"]).save_to_disk(\"../data/embeddings\")\n",
    "# can be read with\n",
    "# datasets.Dataset.load_from_disk(\"../data/embeddings/\")"
   ]
  }
 ],
 "metadata": {
  "kernelspec": {
   "display_name": "nlp",
   "language": "python",
   "name": "python3"
  },
  "language_info": {
   "codemirror_mode": {
    "name": "ipython",
    "version": 3
   },
   "file_extension": ".py",
   "mimetype": "text/x-python",
   "name": "python",
   "nbconvert_exporter": "python",
   "pygments_lexer": "ipython3",
   "version": "3.9.13"
  },
  "orig_nbformat": 4
 },
 "nbformat": 4,
 "nbformat_minor": 2
}
